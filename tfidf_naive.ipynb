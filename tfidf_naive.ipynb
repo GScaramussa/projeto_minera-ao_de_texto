{
 "cells": [
  {
   "cell_type": "code",
   "execution_count": 1,
   "metadata": {},
   "outputs": [
    {
     "name": "stdout",
     "output_type": "stream",
     "text": [
      "                               reviewId app_name  \\\n",
      "0  01e23c15-44bf-46b7-b280-40e880d9d49b   Shopee   \n",
      "1  df40ba7c-075d-48dc-b798-21466dfb41d6   Shopee   \n",
      "2  59490b23-b17b-4bba-855b-b5053dadc0db   Shopee   \n",
      "3  48fd8168-1e42-4475-9a99-935c2fd48769   Shopee   \n",
      "4  f4e1468b-6d97-4f1a-927d-1afee2bfbe75   Shopee   \n",
      "5  2ce2db50-eec3-4cf5-afd6-b153ca01cf0f   Shopee   \n",
      "6  404d8ede-bf3e-4652-a410-ec1ad12e40df   Shopee   \n",
      "7  0d7c4353-a8f6-467c-abd7-c65b26fd4976   Shopee   \n",
      "8  5410fc9e-d51f-4f6f-9fdc-01b93eed8750   Shopee   \n",
      "9  31458c8f-8f11-496f-b72e-dacc9470a52f   Shopee   \n",
      "\n",
      "                                             content sentiment_polarity  \\\n",
      "0  O app da Shopee é razoável. Apesar de ser fáci...           positive   \n",
      "1  O app é bem otimizado, fácil de visualizar os ...           positive   \n",
      "2  O app é muito bom, prático e fácil de entender...           positive   \n",
      "3  Aplicativo muito bom. Mas algo que me chateou ...           positive   \n",
      "4  o app é muito bom, porém tenho tido dificuldad...           negative   \n",
      "5  É muito bom esse app, porém ele fica travando ...           positive   \n",
      "6  Tenho gostado bastante do app. Acredito que em...           positive   \n",
      "7  Adoro, tudo que você pensar tem e as promoções...           positive   \n",
      "8  O app é muito bom,algumas mercadorias são real...           positive   \n",
      "9  Estava com problema inicial de não conseguir e...           negative   \n",
      "\n",
      "   sentiment Unnamed: 5  \n",
      "0    sadness        NaN  \n",
      "1    sadness        NaN  \n",
      "2    sadness        NaN  \n",
      "3    sadness        NaN  \n",
      "4    disgust        NaN  \n",
      "5  happiness        NaN  \n",
      "6  happiness        NaN  \n",
      "7  happiness        NaN  \n",
      "8    sadness        NaN  \n",
      "9      anger        NaN  \n"
     ]
    }
   ],
   "source": [
    "import pandas as pd\n",
    "\n",
    "dados = pd.read_csv('reviews.csv')\n",
    "print(dados.head(10))"
   ]
  },
  {
   "cell_type": "code",
   "execution_count": 2,
   "metadata": {},
   "outputs": [
    {
     "data": {
      "text/html": [
       "<div>\n",
       "<style scoped>\n",
       "    .dataframe tbody tr th:only-of-type {\n",
       "        vertical-align: middle;\n",
       "    }\n",
       "\n",
       "    .dataframe tbody tr th {\n",
       "        vertical-align: top;\n",
       "    }\n",
       "\n",
       "    .dataframe thead th {\n",
       "        text-align: right;\n",
       "    }\n",
       "</style>\n",
       "<table border=\"1\" class=\"dataframe\">\n",
       "  <thead>\n",
       "    <tr style=\"text-align: right;\">\n",
       "      <th></th>\n",
       "      <th>reviewId</th>\n",
       "      <th>app_name</th>\n",
       "      <th>content</th>\n",
       "      <th>sentiment_polarity</th>\n",
       "      <th>sentiment</th>\n",
       "      <th>Unnamed: 5</th>\n",
       "    </tr>\n",
       "  </thead>\n",
       "  <tbody>\n",
       "    <tr>\n",
       "      <th>count</th>\n",
       "      <td>3011</td>\n",
       "      <td>3011</td>\n",
       "      <td>3011</td>\n",
       "      <td>3011</td>\n",
       "      <td>3011</td>\n",
       "      <td>1</td>\n",
       "    </tr>\n",
       "    <tr>\n",
       "      <th>unique</th>\n",
       "      <td>3011</td>\n",
       "      <td>10</td>\n",
       "      <td>3011</td>\n",
       "      <td>3</td>\n",
       "      <td>7</td>\n",
       "      <td>1</td>\n",
       "    </tr>\n",
       "    <tr>\n",
       "      <th>top</th>\n",
       "      <td>b2ca0eda-2492-411f-b5be-e81071f52122</td>\n",
       "      <td>Shopee</td>\n",
       "      <td>O reconhecimento facial simplesmente não funci...</td>\n",
       "      <td>negative</td>\n",
       "      <td>disgust</td>\n",
       "      <td>X</td>\n",
       "    </tr>\n",
       "    <tr>\n",
       "      <th>freq</th>\n",
       "      <td>1</td>\n",
       "      <td>303</td>\n",
       "      <td>1</td>\n",
       "      <td>1742</td>\n",
       "      <td>952</td>\n",
       "      <td>1</td>\n",
       "    </tr>\n",
       "  </tbody>\n",
       "</table>\n",
       "</div>"
      ],
      "text/plain": [
       "                                    reviewId app_name  \\\n",
       "count                                   3011     3011   \n",
       "unique                                  3011       10   \n",
       "top     b2ca0eda-2492-411f-b5be-e81071f52122   Shopee   \n",
       "freq                                       1      303   \n",
       "\n",
       "                                                  content sentiment_polarity  \\\n",
       "count                                                3011               3011   \n",
       "unique                                               3011                  3   \n",
       "top     O reconhecimento facial simplesmente não funci...           negative   \n",
       "freq                                                    1               1742   \n",
       "\n",
       "       sentiment Unnamed: 5  \n",
       "count       3011          1  \n",
       "unique         7          1  \n",
       "top      disgust          X  \n",
       "freq         952          1  "
      ]
     },
     "execution_count": 2,
     "metadata": {},
     "output_type": "execute_result"
    }
   ],
   "source": [
    "dados.describe()"
   ]
  },
  {
   "cell_type": "code",
   "execution_count": 4,
   "metadata": {},
   "outputs": [
    {
     "data": {
      "text/plain": [
       "'O app da Shopee é razoável  Apesar de ser fácil de utilizar  apresenta alguns bugs  Por exemplo  Sugestão de palavra errada no campo de pesquisa que acarreta na busca errada  Sugestões de produtos que não têm nada a ver com coisas de nosso interesse  Dificuldade de acesso de alguns jogos ou travamento durante alguma jogada  Falhas para carregar certos anexos para avaliação dos produtos  No geral  são problemas que se pode contornar  pois não ocorrem com tanta frequência '"
      ]
     },
     "execution_count": 4,
     "metadata": {},
     "output_type": "execute_result"
    }
   ],
   "source": [
    "#removendo caracteres nao latinos\n",
    "\n",
    "import regex\n",
    "\n",
    "dados['content'] = dados['content'].apply(lambda x: regex.sub(r'[^\\p{Latin}]', ' ', str(x)))\n",
    "\n",
    "dados.loc[0, 'content']"
   ]
  },
  {
   "cell_type": "code",
   "execution_count": 5,
   "metadata": {},
   "outputs": [
    {
     "data": {
      "text/plain": [
       "'o app da shopee é razoável  apesar de ser fácil de utilizar  apresenta alguns bugs  por exemplo  sugestão de palavra errada no campo de pesquisa que acarreta na busca errada  sugestões de produtos que não têm nada a ver com coisas de nosso interesse  dificuldade de acesso de alguns jogos ou travamento durante alguma jogada  falhas para carregar certos anexos para avaliação dos produtos  no geral  são problemas que se pode contornar  pois não ocorrem com tanta frequência '"
      ]
     },
     "execution_count": 5,
     "metadata": {},
     "output_type": "execute_result"
    }
   ],
   "source": [
    "#colocando todo texto para minusculo\n",
    "\n",
    "dados['content'] = dados['content'].apply(lambda x: str(x).lower())\n",
    "\n",
    "dados.loc[0, 'content']"
   ]
  },
  {
   "cell_type": "code",
   "execution_count": 10,
   "metadata": {},
   "outputs": [
    {
     "name": "stderr",
     "output_type": "stream",
     "text": [
      "[nltk_data] Downloading package stopwords to\n",
      "[nltk_data]     C:\\Users\\biels\\AppData\\Roaming\\nltk_data...\n",
      "[nltk_data]   Package stopwords is already up-to-date!\n",
      "[nltk_data] Downloading package punkt to\n",
      "[nltk_data]     C:\\Users\\biels\\AppData\\Roaming\\nltk_data...\n",
      "[nltk_data]   Package punkt is already up-to-date!\n"
     ]
    }
   ],
   "source": [
    "import nltk #caso não funcione, adicione a linha nltk.download('punkt')\n",
    "from nltk.corpus import stopwords\n",
    "from nltk.tokenize import word_tokenize\n",
    "nltk.download('stopwords')\n",
    "nltk.download('punkt')\n",
    "\n",
    "def remove_stopwords(texto):\n",
    "    stops_list = stopwords.words(\"portuguese\")\n",
    "    word_tokens = word_tokenize(texto)\n",
    "    texto_sem_stops = [w for w in word_tokens if w not in stops_list]\n",
    "    return \" \".join(texto_sem_stops)\n",
    "dados['content'] = dados['content'].apply(remove_stopwords)\n",
    "\n"
   ]
  },
  {
   "cell_type": "code",
   "execution_count": 11,
   "metadata": {},
   "outputs": [
    {
     "data": {
      "text/plain": [
       "'app shopee razoável apesar fácil utilizar apresenta alguns bugs exemplo sugestão palavra errada campo pesquisa acarreta busca errada sugestões produtos têm nada ver coisas interesse dificuldade acesso alguns jogos travamento durante alguma jogada falhas carregar certos anexos avaliação produtos geral problemas pode contornar pois ocorrem tanta frequência'"
      ]
     },
     "execution_count": 11,
     "metadata": {},
     "output_type": "execute_result"
    }
   ],
   "source": [
    "dados.loc[0, 'content']"
   ]
  },
  {
   "cell_type": "markdown",
   "metadata": {},
   "source": [
    "EXTRACAO DAS FEATURES"
   ]
  },
  {
   "cell_type": "code",
   "execution_count": 12,
   "metadata": {},
   "outputs": [
    {
     "name": "stdout",
     "output_type": "stream",
     "text": [
      "<bound method NDFrame.head of       aap  aba  abaixa  abaixada  abaixado  abaixar  abaixaram  abaixe  \\\n",
      "0     0.0  0.0     0.0       0.0       0.0      0.0        0.0     0.0   \n",
      "1     0.0  0.0     0.0       0.0       0.0      0.0        0.0     0.0   \n",
      "2     0.0  0.0     0.0       0.0       0.0      0.0        0.0     0.0   \n",
      "3     0.0  0.0     0.0       0.0       0.0      0.0        0.0     0.0   \n",
      "4     0.0  0.0     0.0       0.0       0.0      0.0        0.0     0.0   \n",
      "...   ...  ...     ...       ...       ...      ...        ...     ...   \n",
      "3006  0.0  0.0     0.0       0.0       0.0      0.0        0.0     0.0   \n",
      "3007  0.0  0.0     0.0       0.0       0.0      0.0        0.0     0.0   \n",
      "3008  0.0  0.0     0.0       0.0       0.0      0.0        0.0     0.0   \n",
      "3009  0.0  0.0     0.0       0.0       0.0      0.0        0.0     0.0   \n",
      "3010  0.0  0.0     0.0       0.0       0.0      0.0        0.0     0.0   \n",
      "\n",
      "      abaixei  abaixem  ...  últimamente  últimas  último  últimos  única  \\\n",
      "0         0.0      0.0  ...          0.0      0.0     0.0      0.0    0.0   \n",
      "1         0.0      0.0  ...          0.0      0.0     0.0      0.0    0.0   \n",
      "2         0.0      0.0  ...          0.0      0.0     0.0      0.0    0.0   \n",
      "3         0.0      0.0  ...          0.0      0.0     0.0      0.0    0.0   \n",
      "4         0.0      0.0  ...          0.0      0.0     0.0      0.0    0.0   \n",
      "...       ...      ...  ...          ...      ...     ...      ...    ...   \n",
      "3006      0.0      0.0  ...          0.0      0.0     0.0      0.0    0.0   \n",
      "3007      0.0      0.0  ...          0.0      0.0     0.0      0.0    0.0   \n",
      "3008      0.0      0.0  ...          0.0      0.0     0.0      0.0    0.0   \n",
      "3009      0.0      0.0  ...          0.0      0.0     0.0      0.0    0.0   \n",
      "3010      0.0      0.0  ...          0.0      0.0     0.0      0.0    0.0   \n",
      "\n",
      "      únicas  único  únicos  úteis  útil  \n",
      "0        0.0    0.0     0.0    0.0   0.0  \n",
      "1        0.0    0.0     0.0    0.0   0.0  \n",
      "2        0.0    0.0     0.0    0.0   0.0  \n",
      "3        0.0    0.0     0.0    0.0   0.0  \n",
      "4        0.0    0.0     0.0    0.0   0.0  \n",
      "...      ...    ...     ...    ...   ...  \n",
      "3006     0.0    0.0     0.0    0.0   0.0  \n",
      "3007     0.0    0.0     0.0    0.0   0.0  \n",
      "3008     0.0    0.0     0.0    0.0   0.0  \n",
      "3009     0.0    0.0     0.0    0.0   0.0  \n",
      "3010     0.0    0.0     0.0    0.0   0.0  \n",
      "\n",
      "[3011 rows x 8845 columns]>\n"
     ]
    }
   ],
   "source": [
    "from sklearn.feature_extraction.text import TfidfVectorizer\n",
    "vectorizer = TfidfVectorizer()\n",
    "tfidf_matrix = vectorizer.fit_transform(dados['content'])\n",
    "tfidf_df = pd.DataFrame(tfidf_matrix.toarray(),columns = vectorizer.get_feature_names_out())\n",
    "\n",
    "print(tfidf_df.head)"
   ]
  },
  {
   "cell_type": "code",
   "execution_count": 17,
   "metadata": {},
   "outputs": [],
   "source": [
    "categorias = dados['sentiment']\n",
    "categorias_polaridade = dados['sentiment_polarity']\n",
    "\n",
    "from sklearn.model_selection import train_test_split\n",
    "\n",
    "X_train, X_test, y_train, y_test = train_test_split(tfidf_df, categorias, test_size=0.2) #20% para teste.\n",
    "X_trainp, X_testp, y_trainp, y_testp = train_test_split(tfidf_df, categorias_polaridade, test_size=0.2) #20% para teste.\n",
    "\n",
    "# X_train contém os 80% dos dados - treinamento\n",
    "# y_train contém os 80% das categorias (atributo alvo) - treinamento\n",
    "\n",
    "# X_test contém os 20% dos dados - teste\n",
    "# y_test contém os 20% das categorias - teste"
   ]
  },
  {
   "cell_type": "code",
   "execution_count": 18,
   "metadata": {},
   "outputs": [],
   "source": [
    "naive_bayes = MultinomialNB()\n",
    "naive_bayesp = MultinomialNB()\n",
    "naive_bayes.fit(X_train, y_train)\n",
    "naive_bayesp.fit(X_trainp, y_trainp)\n",
    "predicoes = naive_bayes.predict(X_test)# recebe os 20% dos dados de teste sem as categorias - \"escondidas\"\n",
    "predicoesp = naive_bayesp.predict(X_testp)"
   ]
  },
  {
   "cell_type": "markdown",
   "metadata": {},
   "source": [
    "COMO SABEMOS DE ANTEMAO A CATEGORIA CORRETA DO TESTE, VAMOS AVALIAR A PERFORMANCE"
   ]
  },
  {
   "cell_type": "code",
   "execution_count": 19,
   "metadata": {},
   "outputs": [
    {
     "name": "stdout",
     "output_type": "stream",
     "text": [
      "              precision    recall  f1-score   support\n",
      "\n",
      "       anger       0.68      0.38      0.49       142\n",
      "     disgust       0.53      0.75      0.62       206\n",
      "        fear       0.00      0.00      0.00         8\n",
      "   happiness       0.00      0.00      0.00        46\n",
      "     neutral       0.00      0.00      0.00        14\n",
      "     sadness       0.56      0.70      0.62       186\n",
      "    surprise       0.00      0.00      0.00         1\n",
      "\n",
      "    accuracy                           0.56       603\n",
      "   macro avg       0.25      0.26      0.25       603\n",
      "weighted avg       0.52      0.56      0.52       603\n",
      "\n"
     ]
    },
    {
     "name": "stderr",
     "output_type": "stream",
     "text": [
      "C:\\Users\\biels\\AppData\\Local\\Packages\\PythonSoftwareFoundation.Python.3.12_qbz5n2kfra8p0\\LocalCache\\local-packages\\Python312\\site-packages\\sklearn\\metrics\\_classification.py:1531: UndefinedMetricWarning: Precision is ill-defined and being set to 0.0 in labels with no predicted samples. Use `zero_division` parameter to control this behavior.\n",
      "  _warn_prf(average, modifier, f\"{metric.capitalize()} is\", len(result))\n",
      "C:\\Users\\biels\\AppData\\Local\\Packages\\PythonSoftwareFoundation.Python.3.12_qbz5n2kfra8p0\\LocalCache\\local-packages\\Python312\\site-packages\\sklearn\\metrics\\_classification.py:1531: UndefinedMetricWarning: Precision is ill-defined and being set to 0.0 in labels with no predicted samples. Use `zero_division` parameter to control this behavior.\n",
      "  _warn_prf(average, modifier, f\"{metric.capitalize()} is\", len(result))\n",
      "C:\\Users\\biels\\AppData\\Local\\Packages\\PythonSoftwareFoundation.Python.3.12_qbz5n2kfra8p0\\LocalCache\\local-packages\\Python312\\site-packages\\sklearn\\metrics\\_classification.py:1531: UndefinedMetricWarning: Precision is ill-defined and being set to 0.0 in labels with no predicted samples. Use `zero_division` parameter to control this behavior.\n",
      "  _warn_prf(average, modifier, f\"{metric.capitalize()} is\", len(result))\n"
     ]
    }
   ],
   "source": [
    "from sklearn.metrics import classification_report\n",
    "import numpy as np\n",
    "\n",
    "print(classification_report(y_test, predicoes))\n",
    "#print(\"Classes em y_test:\", np.unique(y_test))\n",
    "#print(\"Classes em predicoes:\", np.unique(predicoes))\n",
    "# y_test contém as categorias conhecidas do conjunto de teste usado no método predict().\n",
    "# predicoes contém as categorias preditas (retornadas) pelo método predict() com base nos dados de X_test."
   ]
  },
  {
   "cell_type": "code",
   "execution_count": 21,
   "metadata": {},
   "outputs": [
    {
     "name": "stdout",
     "output_type": "stream",
     "text": [
      "              precision    recall  f1-score   support\n",
      "\n",
      "    negative       0.77      0.97      0.85       354\n",
      "     neutral       0.00      0.00      0.00        16\n",
      "    positive       0.90      0.61      0.73       233\n",
      "\n",
      "    accuracy                           0.80       603\n",
      "   macro avg       0.56      0.53      0.53       603\n",
      "weighted avg       0.80      0.80      0.78       603\n",
      "\n"
     ]
    },
    {
     "name": "stderr",
     "output_type": "stream",
     "text": [
      "C:\\Users\\biels\\AppData\\Local\\Packages\\PythonSoftwareFoundation.Python.3.12_qbz5n2kfra8p0\\LocalCache\\local-packages\\Python312\\site-packages\\sklearn\\metrics\\_classification.py:1531: UndefinedMetricWarning: Precision is ill-defined and being set to 0.0 in labels with no predicted samples. Use `zero_division` parameter to control this behavior.\n",
      "  _warn_prf(average, modifier, f\"{metric.capitalize()} is\", len(result))\n",
      "C:\\Users\\biels\\AppData\\Local\\Packages\\PythonSoftwareFoundation.Python.3.12_qbz5n2kfra8p0\\LocalCache\\local-packages\\Python312\\site-packages\\sklearn\\metrics\\_classification.py:1531: UndefinedMetricWarning: Precision is ill-defined and being set to 0.0 in labels with no predicted samples. Use `zero_division` parameter to control this behavior.\n",
      "  _warn_prf(average, modifier, f\"{metric.capitalize()} is\", len(result))\n",
      "C:\\Users\\biels\\AppData\\Local\\Packages\\PythonSoftwareFoundation.Python.3.12_qbz5n2kfra8p0\\LocalCache\\local-packages\\Python312\\site-packages\\sklearn\\metrics\\_classification.py:1531: UndefinedMetricWarning: Precision is ill-defined and being set to 0.0 in labels with no predicted samples. Use `zero_division` parameter to control this behavior.\n",
      "  _warn_prf(average, modifier, f\"{metric.capitalize()} is\", len(result))\n"
     ]
    }
   ],
   "source": [
    "from sklearn.metrics import classification_report\n",
    "\n",
    "print(classification_report(y_testp, predicoesp))"
   ]
  },
  {
   "cell_type": "markdown",
   "metadata": {},
   "source": [
    "MATRIZ DE CONFUSAO USANDO MAPA DE VALOR SEABORN"
   ]
  },
  {
   "cell_type": "code",
   "execution_count": 20,
   "metadata": {},
   "outputs": [
    {
     "data": {
      "image/png": "[encoded data removed]",
      "text/plain": [
       "<Figure size 1000x700 with 1 Axes>"
      ]
     },
     "metadata": {},
     "output_type": "display_data"
    }
   ],
   "source": [
    "from sklearn.metrics import confusion_matrix\n",
    "import matplotlib.pyplot as plt\n",
    "import seaborn as sns\n",
    "\n",
    "sentiment_labels = dados['sentiment'].unique()\n",
    "\n",
    "# Geração da matriz de confusão\n",
    "cm = confusion_matrix(y_test, predicoes, labels = sentiment_labels)\n",
    "\n",
    "# Ajuste da plotagem da matriz de confusão\n",
    "plt.figure(figsize=(10, 7))  # Ajuste o tamanho do gráfico conforme necessário\n",
    "sns.heatmap(cm, square=True, annot=True, fmt='d', cmap='RdBu', cbar=False,\n",
    "            xticklabels=categorias.unique(), yticklabels=categorias.unique())\n",
    "\n",
    "plt.xlabel('Classe real')\n",
    "plt.ylabel('Classe predita')\n",
    "plt.show()\n"
   ]
  },
  {
   "cell_type": "code",
   "execution_count": 22,
   "metadata": {},
   "outputs": [
    {
     "data": {
      "image/png": "[encoded data removed]",
      "text/plain": [
       "<Figure size 1000x700 with 1 Axes>"
      ]
     },
     "metadata": {},
     "output_type": "display_data"
    }
   ],
   "source": [
    "from sklearn.metrics import confusion_matrix\n",
    "import matplotlib.pyplot as plt\n",
    "import seaborn as sns\n",
    "\n",
    "sentiment_labels = dados['sentiment_polarity'].unique()\n",
    "\n",
    "# Geração da matriz de confusão\n",
    "cm = confusion_matrix(y_testp, predicoesp, labels = sentiment_labels)\n",
    "\n",
    "# Ajuste da plotagem da matriz de confusão\n",
    "plt.figure(figsize=(10, 7))  # Ajuste o tamanho do gráfico conforme necessário\n",
    "sns.heatmap(cm, square=True, annot=True, fmt='d', cmap='RdBu', cbar=False,\n",
    "            xticklabels=categorias_polaridade.unique(), yticklabels=categorias_polaridade.unique())\n",
    "\n",
    "plt.xlabel('Classe real')\n",
    "plt.ylabel('Classe predita')\n",
    "plt.show()"
   ]
  }
 ],
 "metadata": {
  "kernelspec": {
   "display_name": "Python 3",
   "language": "python",
   "name": "python3"
  },
  "language_info": {
   "codemirror_mode": {
    "name": "ipython",
    "version": 3
   },
   "file_extension": ".py",
   "mimetype": "text/x-python",
   "name": "python",
   "nbconvert_exporter": "python",
   "pygments_lexer": "ipython3",
   "version": "3.12.4"
  }
 },
 "nbformat": 4,
 "nbformat_minor": 2
}
